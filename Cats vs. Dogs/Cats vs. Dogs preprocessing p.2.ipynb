{
 "cells": [
  {
   "cell_type": "markdown",
   "metadata": {},
   "source": [
    "# Preprocessing p.2\n",
    "Now that we have some knowledge about our dataset we can get get rid of some of it and then proceed to converting our data info something more TF friendly :)"
   ]
  },
  {
   "cell_type": "markdown",
   "metadata": {},
   "source": [
    "### Imports "
   ]
  },
  {
   "cell_type": "code",
   "execution_count": null,
   "metadata": {
    "collapsed": true
   },
   "outputs": [],
   "source": [
    "import os \n",
    "from PIL import Image\n",
    "import pandas as pd\n",
    "import numpy as np\n",
    "from tqdm import tqdm"
   ]
  },
  {
   "cell_type": "markdown",
   "metadata": {},
   "source": [
    "lets delete 10 of each extreme cases "
   ]
  },
  {
   "cell_type": "code",
   "execution_count": null,
   "metadata": {},
   "outputs": [],
   "source": [
    "df = pd.read_csv('df.csv', index_col=0)"
   ]
  },
  {
   "cell_type": "code",
   "execution_count": null,
   "metadata": {},
   "outputs": [],
   "source": [
    "df.head()"
   ]
  },
  {
   "cell_type": "code",
   "execution_count": null,
   "metadata": {
    "collapsed": true
   },
   "outputs": [],
   "source": [
    "dogs = df[df['label'] == 'dog']\n",
    "cats = df[df['label'] == 'cat']"
   ]
  },
  {
   "cell_type": "markdown",
   "metadata": {},
   "source": [
    "To maintain equal amout of dogs and cats we will delete 5 from each"
   ]
  },
  {
   "cell_type": "code",
   "execution_count": null,
   "metadata": {},
   "outputs": [],
   "source": [
    "# This will delete only record from df that we will use to create input data \n",
    "# All images will be still on you disk for further practices\n",
    "def get_indexes(df):\n",
    "    indexes = df.sort_values(by='height').head().index\n",
    "    indexes = np.append(indexes, df.sort_values(by='width').head().index) \n",
    "    indexes = np.append(indexes, df.sort_values(by='aspect ratio').tail().index)\n",
    "    indexes = np.append(indexes, df.sort_values(by='aspect ratio').head().index)\n",
    "    indexes = np.append(indexes, df.sort_values(by='range').head().index)\n",
    "    indexes = np.append(indexes, df.sort_values(by='std').head().index)\n",
    "    indexes = np.append(indexes, df.sort_values(by='std').tail().index)\n",
    "    return np.unique(indexes)"
   ]
  },
  {
   "cell_type": "code",
   "execution_count": null,
   "metadata": {},
   "outputs": [],
   "source": [
    "df.drop(get_indexes(dogs), inplace=True)\n",
    "df.drop(get_indexes(cats), inplace=True)"
   ]
  },
  {
   "cell_type": "code",
   "execution_count": null,
   "metadata": {},
   "outputs": [],
   "source": [
    "df.info()"
   ]
  },
  {
   "cell_type": "markdown",
   "metadata": {},
   "source": [
    "We can see that we've lost about 60 images, but we got rid of some worst(probably) cases :)"
   ]
  },
  {
   "cell_type": "markdown",
   "metadata": {},
   "source": [
    "### Creating training and testing data "
   ]
  },
  {
   "cell_type": "code",
   "execution_count": null,
   "metadata": {
    "collapsed": true
   },
   "outputs": [],
   "source": [
    "def label_to_array(label):\n",
    "    if label == 'cat':\n",
    "        return [1, 0]\n",
    "    elif label == 'dog':\n",
    "        return [0, 1]"
   ]
  },
  {
   "cell_type": "code",
   "execution_count": null,
   "metadata": {
    "collapsed": true
   },
   "outputs": [],
   "source": [
    "def process_image(img):\n",
    "    return img.convert('L').resize([IMG_SIZE, IMG_SIZE], Image.ANTIALIAS)"
   ]
  },
  {
   "cell_type": "code",
   "execution_count": null,
   "metadata": {
    "collapsed": true
   },
   "outputs": [],
   "source": [
    "def prepare_data(df):\n",
    "    training_data = []\n",
    "    for data in tqdm(df[['path', 'label']].head().itertuples()):\n",
    "        label = label_to_array(data[2])\n",
    "        path = data[1]\n",
    "        img = Image.open(path, 'r')\n",
    "        img = process_image(img)\n",
    "        training_data.append([np.array(img), np.array(label)])\n",
    "    np.random.shuffle(training_data)\n",
    "    np.save('train_data.npy', training_data)\n",
    "    return training_data"
   ]
  }
 ],
 "metadata": {
  "kernelspec": {
   "display_name": "Python 3",
   "language": "python",
   "name": "python3"
  },
  "language_info": {
   "codemirror_mode": {
    "name": "ipython",
    "version": 3
   },
   "file_extension": ".py",
   "mimetype": "text/x-python",
   "name": "python",
   "nbconvert_exporter": "python",
   "pygments_lexer": "ipython3",
   "version": "3.6.2"
  }
 },
 "nbformat": 4,
 "nbformat_minor": 2
}
